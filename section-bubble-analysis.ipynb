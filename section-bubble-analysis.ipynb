{
 "cells": [
  {
   "cell_type": "markdown",
   "metadata": {},
   "source": [
    "Perform correlation analysis of the dataset to identify relationships that might indicate a causal connection with the bubble issue."
   ]
  },
  {
   "cell_type": "code",
   "execution_count": null,
   "metadata": {},
   "outputs": [],
   "source": [
    "import pandas as pd\n",
    "import numpy as np\n",
    "import matplotlib.pyplot as plt\n",
    "from sklearn.preprocessing import LabelEncoder\n",
    "\n",
    "import maps as m\n",
    "\n",
    "# Load the Excel file\n",
    "file_path = '2024_customer_feedback_bubble_test.xlsx'\n",
    "selected_columns = ['Line', 'Blend', 'Height', 'Thickness',\n",
    "                    'Color', 'Stamp', 'OutsideGroove', 'L1Only',\n",
    "                    'Month', 'Day', 'Time']\n",
    "df = pd.read_excel(file_path, usecols=selected_columns)\n",
    "\n",
    "# THICKNESS: Convert all values in 'Thickness' column to a unique string value\n",
    "df['Thickness'] = df['Thickness'].astype('str').map(m.thickness_map)\n",
    "# COLOR: Convert all values in 'Color' column to a unique string value\n",
    "df['Color'] = df['Color'].astype('str').map(m.color_map)\n",
    "# STAMP: Convert all values in 'Stamp' column to a unique string value\n",
    "df['Stamp'] = df['Stamp'].astype('str').map(m.stamp_map)\n",
    "# OUTSIDE GROOME: Convert all values in 'Outside Groove' column to a unique string value\n",
    "df['OutsideGroove'] = df['OutsideGroove'].astype('str').map(m.outside_groove_map)\n",
    "\n",
    "\n",
    "\n",
    "# Perform a correlation analysis using the `corr()` method\n",
    "correlation_matrix = df.corr()\n",
    "\n",
    "# # Print the correlation matrix\n",
    "# print(correlation_matrix)\n",
    "\n",
    "# # Create a heatmap to visualize the correlations\n",
    "# plt.imshow(correlation_matrix, cmap='coolwarm', interpolation='nearest')\n",
    "# plt.colorbar()\n",
    "# plt.show()\n",
    "\n",
    "# # Identify the most correlated variables\n",
    "# most_correlated_variables = correlation_matrix.unstack().sort_values(ascending=False)[1:]\n",
    "\n",
    "# # Print the most correlated variables\n",
    "# print('Most correlated variables:')\n",
    "# print(most_correlated_variables)"
   ]
  },
  {
   "cell_type": "markdown",
   "metadata": {},
   "source": [
    "The correlation matrix will contain the Pearson correlation coefficients between each pair of variables. A value closer to 1 indicates a strong positive relationship, while values closer to -1 indicate a strong negative relationship. Values close to zero suggest no linear relationship between two variables."
   ]
  },
  {
   "cell_type": "code",
   "execution_count": null,
   "metadata": {},
   "outputs": [],
   "source": [
    "import pandas as pd\n",
    "\n",
    "# Load the data into a DataFrame\n",
    "data = pd.read_excel(\"2024_customer_feedback_bubble_test.xlsx\")\n",
    "\n",
    "# Calculate correlation coefficients between variables\n",
    "corr_matrix = data.corr().abs()\n",
    "\n",
    "# Print the correlation matrix\n",
    "print(corr_matrix)"
   ]
  }
 ],
 "metadata": {
  "kernelspec": {
   "display_name": "jupyter",
   "language": "python",
   "name": "python3"
  },
  "language_info": {
   "codemirror_mode": {
    "name": "ipython",
    "version": 3
   },
   "file_extension": ".py",
   "mimetype": "text/x-python",
   "name": "python",
   "nbconvert_exporter": "python",
   "pygments_lexer": "ipython3",
   "version": "3.12.7"
  }
 },
 "nbformat": 4,
 "nbformat_minor": 2
}
