{
 "cells": [
  {
   "cell_type": "markdown",
   "metadata": {},
   "source": [
    "Perform correlation analysis of the dataset to identify relationships that might indicate a causal connection with the bubble issue."
   ]
  },
  {
   "cell_type": "code",
   "execution_count": 2,
   "metadata": {},
   "outputs": [
    {
     "name": "stdout",
     "output_type": "stream",
     "text": [
      "Done!\n"
     ]
    }
   ],
   "source": [
    "import os\n",
    "import pandas as pd\n",
    "from pathlib import Path\n",
    "import numpy as np\n",
    "import matplotlib.pyplot as plt\n",
    "from sklearn.preprocessing import LabelEncoder\n",
    "\n",
    "ht_part_number = {\n",
    "    'type': [0,1],\n",
    "    'height': [1,3],\n",
    "    'construction': [3,4],\n",
    "    'color': [4,5],\n",
    "    'thickness': [6,7],\n",
    "    'outside_skin': [7,8],\n",
    "    'outside_treatment': [8,9],\n",
    "    'outside_grooving':[9,10],\n",
    "    'inside_skin': [11,12],\n",
    "    'inside_grooving': [12,13],\n",
    "    'length': [14,18],\n",
    "    'end_stiles': [18,19],\n",
    "    'backer_stile_placement': [19,20]\n",
    "}\n",
    "\n",
    "def read_and_concat_sheets(file_path, selected_columns):\n",
    "    # Read the Excel file into an ExcelFile object\n",
    "    excel_file = pd.ExcelFile(file_path)\n",
    "\n",
    "    # Create an empty list to store the DataFrames\n",
    "    dfs = []\n",
    "\n",
    "    # Iterate through each sheet in the Excel file\n",
    "    for sheet_name in excel_file.sheet_names:\n",
    "        # Read the sheet into a DataFrame\n",
    "        df = excel_file.parse(sheet_name, usecols=selected_columns)        \n",
    "        # Append the DataFrame to the list\n",
    "        dfs.append(df)\n",
    "    # Concatenate all the DataFrames into one\n",
    "    concatenated_df = pd.concat(dfs, ignore_index=True)\n",
    "\n",
    "    return concatenated_df\n",
    "\n",
    "# data file\n",
    "file_path = Path('2024_customer_feedback_bubble.xlsx')\n",
    "selected_columns = ['Line', 'Blend','EndOfPourTimeStamp', 'SmartPartNumber']\n",
    "\n",
    "# make sure the file exists\n",
    "if file_path.is_file():\n",
    "     \n",
    "    ## convert to csv because it's faster for subsequent processing\n",
    "     base_name, ext = os.path.splitext(file_path)\n",
    "     csv_file_path = base_name + '.csv'\n",
    "\n",
    "     if csv_file_path.is_file():\n",
    "         print(csv_file_path + ' already exists!')\n",
    "     else:\n",
    "         df = read_and_concat_sheets(file_path, selected_columns)\n",
    "         # Write the DataFrame to a CSV file\n",
    "         df.to_csv(\"2024_customer_feedback_bubble.csv\", index=False)\n",
    "\n",
    "print(\"Loading data . . .\")\n",
    "df = pd.read_csv(csv_file_path)\n",
    "print(\"Done\")\n",
    "\n"
   ]
  },
  {
   "cell_type": "code",
   "execution_count": null,
   "metadata": {},
   "outputs": [],
   "source": [
    "part_dict = df.to_dict()\n",
    "\n",
    "# disect the part number and make columns for each definition\n",
    "for option, loc in ht_part_number.items():\n",
    "    part_dict[option] = {}\n",
    "    for i, part_no in part_dict['SmartPartNumber'].items():\n",
    "        part_dict[option][i] = part_no[loc[0]:loc[1]]\n",
    "\n",
    "# delete the part number and inside grooving\n",
    "del part_dict['SmartPartNumber']\n",
    "# del part_dict['inside_grooving']\n",
    "\n",
    "df = pd.DataFrame.from_dict(part_dict)\n",
    "\n",
    "# Create a LabelEncoder object\n",
    "le = LabelEncoder()\n",
    "\n",
    "# Apply label encoding to all categorical columns\n",
    "for col in df.columns:\n",
    "    if df[col].dtype == 'object':\n",
    "        df[col] = le.fit_transform(df[col])\n",
    "\n",
    "# print(df['inside_grooving'].iloc[0:5])\n",
    "\n",
    "# Perform a correlation analysis using the `corr()` method\n",
    "correlation_matrix = df.corr()\n",
    "\n",
    "# Print the correlation matrix\n",
    "print(correlation_matrix)"
   ]
  },
  {
   "cell_type": "markdown",
   "metadata": {},
   "source": [
    "The correlation matrix will contain the Pearson correlation coefficients between each pair of variables. A value closer to 1 indicates a strong positive relationship, while values closer to -1 indicate a strong negative relationship. Values close to zero suggest no linear relationship between two variables."
   ]
  },
  {
   "cell_type": "code",
   "execution_count": null,
   "metadata": {},
   "outputs": [],
   "source": [
    "\n",
    "# Create a heatmap to visualize the correlations\n",
    "plt.imshow(correlation_matrix, cmap='coolwarm', interpolation='nearest')\n",
    "plt.colorbar()\n",
    "plt.show()\n"
   ]
  },
  {
   "cell_type": "code",
   "execution_count": null,
   "metadata": {},
   "outputs": [],
   "source": [
    "# Identify the most correlated variables\n",
    "most_correlated_variables = correlation_matrix.unstack().sort_values(ascending=False)[1:]\n",
    "\n",
    "# Print the most correlated variables\n",
    "print('Most correlated variables:')\n",
    "print(most_correlated_variables)"
   ]
  },
  {
   "cell_type": "code",
   "execution_count": 6,
   "metadata": {},
   "outputs": [
    {
     "name": "stdout",
     "output_type": "stream",
     "text": [
      "    color\n",
      "0     red\n",
      "1  orange\n",
      "2  yellow\n",
      "3   green\n",
      "4    blue\n",
      "5  indigo\n",
      "6     red\n",
      "7     red\n",
      "[4 3 5 1 0 2 4 4]\n"
     ]
    }
   ],
   "source": [
    "import pandas as pd\n",
    "from sklearn.preprocessing import LabelEncoder\n",
    "\n",
    "\n",
    "data = {'color': ['red', 'orange', 'yellow', 'green', 'blue', 'indigo', 'red', 'red']}\n",
    "df = pd.DataFrame(data)\n",
    "print(df)  # Print original DataFrame for verification purposes\n",
    "\n",
    "encoder_color = LabelEncoder()\n",
    "encoded_colors = encoder_color.fit_transform(df['color'])  # Apply LabelEncoder on the 'color' column and store encoded values in a new variable for demonstration purposes only (optional)\n",
    "print(encoded_colors)  # Print encoded color values to verify encoding result"
   ]
  }
 ],
 "metadata": {
  "kernelspec": {
   "display_name": "jupyter",
   "language": "python",
   "name": "python3"
  },
  "language_info": {
   "codemirror_mode": {
    "name": "ipython",
    "version": 3
   },
   "file_extension": ".py",
   "mimetype": "text/x-python",
   "name": "python",
   "nbconvert_exporter": "python",
   "pygments_lexer": "ipython3",
   "version": "3.12.7"
  }
 },
 "nbformat": 4,
 "nbformat_minor": 2
}
